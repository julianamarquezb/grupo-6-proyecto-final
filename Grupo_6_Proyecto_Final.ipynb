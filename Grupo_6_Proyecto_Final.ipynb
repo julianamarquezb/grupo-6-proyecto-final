{
  "nbformat": 4,
  "nbformat_minor": 0,
  "metadata": {
    "colab": {
      "name": "Grupo 6 - Proyecto Final.ipynb",
      "provenance": [],
      "toc_visible": true,
      "authorship_tag": "ABX9TyN06gN92OCRWy7bxOEmeK1g",
      "include_colab_link": true
    },
    "kernelspec": {
      "name": "python3",
      "display_name": "Python 3"
    },
    "language_info": {
      "name": "python"
    }
  },
  "cells": [
    {
      "cell_type": "markdown",
      "metadata": {
        "id": "view-in-github",
        "colab_type": "text"
      },
      "source": [
        "<a href=\"https://colab.research.google.com/github/julianamarquezb/grupo-6-proyecto-final/blob/main/Grupo_6_Proyecto_Final.ipynb\" target=\"_parent\"><img src=\"https://colab.research.google.com/assets/colab-badge.svg\" alt=\"Open In Colab\"/></a>"
      ]
    },
    {
      "cell_type": "code",
      "execution_count": 4,
      "metadata": {
        "id": "JCRd6vmSxxdA"
      },
      "outputs": [],
      "source": [
        "import numpy as np\n",
        "import matplotlib.pylab as plt\n",
        "import math\n",
        "import timeit \n",
        "from scipy import constants, integrate, optimize"
      ]
    },
    {
      "cell_type": "markdown",
      "source": [
        "Del manual de instrucciones,  "
      ],
      "metadata": {
        "id": "3IkpB08W7zy5"
      }
    },
    {
      "cell_type": "markdown",
      "metadata": {
        "id": "cfqrGdjzxtIn"
      },
      "source": [
        "<h2>$\\chi^2$ Calculation</h2>\n",
        "\n",
        "The Cluster class contains all function necessary to calculate the  goodness-of-fit for a given set halo of mass and concentration $(M,c)$. We define the quadratic deviations from the measured shear values:\n",
        "\n",
        "$$ \\chi^2(M,c) = \\sum_i^N \\frac{(\\gamma_\\mathrm{theo, i}(M,c) - \\gamma_\\mathrm{dat, i})^2}{\\sigma^2_\\gamma} $$\n",
        "\n",
        "The theoretical shear values are calculated by assuming a Navarro-Frenk-White (NFW) density profile:\n",
        "\n",
        "$$ \\rho_\\mathrm{NFW}(r) = \\frac{\\delta_c \\rho_c}{(r/r_s)(1 + r/r_s)^2} \\: , $$\n",
        "\n",
        "which leads to\n",
        "\n",
        "$$ \\gamma(x_i) = \\frac{r_s(M,c) \\; \\delta_c(c) \\; \\rho_c(z_\\mathrm{lens})}{\\Sigma_c(z_\\mathrm{lens},z_\\mathrm{source})} g(x_i) \\: , $$\n",
        "\n",
        "where $g(x)$ is an auxiliary function for the dimensionless distance from the lens $x = \\theta/\\theta_s$. \n",
        "\n",
        "Be careful to distinguish $g(x)$ for the cases $x<1$ and $x>1$. When calculating $\\chi^2$. Do not use loops over the whole data array - they are quite slow in python. Numpy arrays however do support fast vectorized operations. A term to look for is \"boolean arrays\".\n",
        "\n",
        "Speed matters here. Try to optimise your $\\chi^2$ calculation, remember that this routine is called several thousand times when used as part of a chain. You can check your execution time with the `%timeit my_function(x,y,..)` command."
      ]
    },
    {
      "cell_type": "markdown",
      "source": [
        "We  give  a  file  called halo5.tab (nombre cambiado a datos.tab),  which  in  column  4  contains  the  angular separation θ of  the  galaxy  from  the  cluster  center  in  units  of  arcminutes,in column 6 the shear and in column 14 the redshiftzs of the galaxy.  To convert the angular separation into a radius we need to multiply the angleby the angular diameter distanced A in the lens plane, i.e. r = dA(z_ls)θ.\n",
        "\n",
        "Note that the data is given for a flat cosmological model with Ω_m= 0.27. The lens is located at redshift z_d= 0.245 and the uncertainty of the shear measurement is σ_γ= 0.3 for all data points."
      ],
      "metadata": {
        "id": "M7rQtnSB3lWe"
      }
    },
    {
      "cell_type": "code",
      "source": [
        "# Se crea una clase para automatizar el proceso de calcular el modelo que mejor se ajusta a la distrubución de datos que se tiene.\n",
        "# El objetivo es construir una función que retorne el valor estimado de m (la masa del cúmulo de estrellas) y cl (parámetro de concentración del lente)\n",
        "class cumulo :\n",
        "\n",
        "  c = scipy.constants.c  # velocidad de la luz en el vacío\n",
        "  G = scipy.constants.G  # constante de gravitación universal\n",
        "  omega_m = 0.27\n",
        "  z_d = 0.245\n",
        "  error_datos = 0.3\n",
        "\n",
        "  def __init__(self, archivo=\"datos.tab\"): # la función que inicializa cada elemento de la clase\n",
        "    self.error = error_datos\n",
        "    self. redshift = z_d\n",
        "    self.omega_m = omega_m\n",
        "  \n",
        "  def datos(self, archivo) :               # la función que lee los datos de los cuales se busca el modelo a ajustar\n",
        "    datos = np.genfromtxt(archivo)\n",
        "    theta = datos[3,:]\n",
        "    r = datos[5,:]\n",
        "\n"
      ],
      "metadata": {
        "id": "XcG6QUV1zFyv"
      },
      "execution_count": 20,
      "outputs": []
    }
  ]
}